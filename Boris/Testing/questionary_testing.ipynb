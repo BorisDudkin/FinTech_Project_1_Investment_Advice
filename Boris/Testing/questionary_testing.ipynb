{
 "cells": [
  {
   "cell_type": "code",
   "execution_count": 98,
   "id": "aa1c422f-6f42-4304-a5c5-36b614e3ecc2",
   "metadata": {},
   "outputs": [],
   "source": [
    "import sys\n",
    "from pathlib import Path\n",
    "import numpy as np\n",
    "import pandas as pd\n",
    "\n",
    "import fire\n",
    "import questionary\n",
    "import math"
   ]
  },
  {
   "cell_type": "code",
   "execution_count": 99,
   "id": "ee79e369-14c9-40f3-b3eb-938e050ed877",
   "metadata": {},
   "outputs": [],
   "source": [
    "my_questionnaires=['Q1_Capacity.csv','Q2_Capacity.csv','Q3_Capacity.csv','Q4_Capacity.csv','Q5_Capacity.csv']\n",
    "risk_capacity=[]\n",
    "zero_df=[]"
   ]
  },
  {
   "cell_type": "code",
   "execution_count": 100,
   "id": "674a031d-d3d0-42fd-8eaa-6679ad902f92",
   "metadata": {},
   "outputs": [],
   "source": [
    "\"\"\"The main function for running the script.\"\"\"\n",
    "my_questionnaires=['Q1_Capacity.csv','Q2_Capacity.csv','Q3_Capacity.csv','Q4_Capacity.csv','Q5_Capacity.csv']\n",
    "risk_capacity=[]\n",
    "zero_df=[]\n",
    "    \n",
    "for quest in my_questionnaires:\n",
    "    csvpath = Path(\"./Resources/\"+quest)\n",
    "    pd_name= quest+\"_df\"\n",
    "    pd_name = pd.read_csv(csvpath)\n",
    "    pd_name=pd_name.set_index('Questions')\n",
    "    n_rows=len(pd_name.axes[0])\n",
    "    n_cols=len(pd_name.axes[1])\n",
    "    risk_capacity.append(pd_name)\n",
    "    df_zero = pd.DataFrame(np.zeros((n_rows, n_cols)), index =pd_name.index, columns =pd_name.columns)\n",
    "    zero_df.append(df_zero)"
   ]
  },
  {
   "cell_type": "code",
   "execution_count": 101,
   "id": "ac96f338-103f-4724-9c00-e12cb33c1827",
   "metadata": {},
   "outputs": [
    {
     "data": {
      "text/html": [
       "<div>\n",
       "<style scoped>\n",
       "    .dataframe tbody tr th:only-of-type {\n",
       "        vertical-align: middle;\n",
       "    }\n",
       "\n",
       "    .dataframe tbody tr th {\n",
       "        vertical-align: top;\n",
       "    }\n",
       "\n",
       "    .dataframe thead th {\n",
       "        text-align: right;\n",
       "    }\n",
       "</style>\n",
       "<table border=\"1\" class=\"dataframe\">\n",
       "  <thead>\n",
       "    <tr style=\"text-align: right;\">\n",
       "      <th></th>\n",
       "      <th>&lt;50k</th>\n",
       "      <th>50-100k</th>\n",
       "      <th>100-200k</th>\n",
       "      <th>&gt;200k</th>\n",
       "    </tr>\n",
       "    <tr>\n",
       "      <th>Questions</th>\n",
       "      <th></th>\n",
       "      <th></th>\n",
       "      <th></th>\n",
       "      <th></th>\n",
       "    </tr>\n",
       "  </thead>\n",
       "  <tbody>\n",
       "    <tr>\n",
       "      <th>What is your household's approximate annual gross income before taxes?</th>\n",
       "      <td>0.0</td>\n",
       "      <td>0.0</td>\n",
       "      <td>0.0</td>\n",
       "      <td>0.0</td>\n",
       "    </tr>\n",
       "  </tbody>\n",
       "</table>\n",
       "</div>"
      ],
      "text/plain": [
       "                                                    <50k  50-100k  100-200k  \\\n",
       "Questions                                                                     \n",
       "What is your household's approximate annual gro...   0.0      0.0       0.0   \n",
       "\n",
       "                                                    >200k  \n",
       "Questions                                                  \n",
       "What is your household's approximate annual gro...    0.0  "
      ]
     },
     "execution_count": 101,
     "metadata": {},
     "output_type": "execute_result"
    }
   ],
   "source": [
    "zero_df[3]"
   ]
  },
  {
   "cell_type": "code",
   "execution_count": 102,
   "id": "9ef78c63-9682-4d46-8852-8a759b46d8a5",
   "metadata": {},
   "outputs": [
    {
     "data": {
      "text/html": [
       "<div>\n",
       "<style scoped>\n",
       "    .dataframe tbody tr th:only-of-type {\n",
       "        vertical-align: middle;\n",
       "    }\n",
       "\n",
       "    .dataframe tbody tr th {\n",
       "        vertical-align: top;\n",
       "    }\n",
       "\n",
       "    .dataframe thead th {\n",
       "        text-align: right;\n",
       "    }\n",
       "</style>\n",
       "<table border=\"1\" class=\"dataframe\">\n",
       "  <thead>\n",
       "    <tr style=\"text-align: right;\">\n",
       "      <th></th>\n",
       "      <th>&lt;50k</th>\n",
       "      <th>50-100k</th>\n",
       "      <th>100-200k</th>\n",
       "      <th>&gt;200k</th>\n",
       "    </tr>\n",
       "    <tr>\n",
       "      <th>Questions</th>\n",
       "      <th></th>\n",
       "      <th></th>\n",
       "      <th></th>\n",
       "      <th></th>\n",
       "    </tr>\n",
       "  </thead>\n",
       "  <tbody>\n",
       "    <tr>\n",
       "      <th>What is your household's approximate annual gross income before taxes?</th>\n",
       "      <td>0.25</td>\n",
       "      <td>0.5</td>\n",
       "      <td>0.75</td>\n",
       "      <td>1</td>\n",
       "    </tr>\n",
       "  </tbody>\n",
       "</table>\n",
       "</div>"
      ],
      "text/plain": [
       "                                                    <50k  50-100k  100-200k  \\\n",
       "Questions                                                                     \n",
       "What is your household's approximate annual gro...  0.25      0.5      0.75   \n",
       "\n",
       "                                                    >200k  \n",
       "Questions                                                  \n",
       "What is your household's approximate annual gro...      1  "
      ]
     },
     "execution_count": 102,
     "metadata": {},
     "output_type": "execute_result"
    }
   ],
   "source": [
    "risk_capacity[3]"
   ]
  },
  {
   "cell_type": "code",
   "execution_count": null,
   "id": "9891d0bf-75c8-416a-bb8d-da6ae014761d",
   "metadata": {},
   "outputs": [],
   "source": []
  },
  {
   "cell_type": "code",
   "execution_count": 105,
   "id": "c0e6fd51-e93b-4c82-b29b-baf1a46cc1ae",
   "metadata": {},
   "outputs": [
    {
     "ename": "ValueError",
     "evalue": "Shape of passed values is (1, 4), indices imply (5, 4)",
     "output_type": "error",
     "traceback": [
      "\u001b[1;31m---------------------------------------------------------------------------\u001b[0m",
      "\u001b[1;31mValueError\u001b[0m                                Traceback (most recent call last)",
      "\u001b[1;32m~\\AppData\\Local\\Temp\\ipykernel_19436\\3305311744.py\u001b[0m in \u001b[0;36m<module>\u001b[1;34m\u001b[0m\n\u001b[1;32m----> 1\u001b[1;33m \u001b[0mdf_zero\u001b[0m \u001b[1;33m=\u001b[0m \u001b[0mpd\u001b[0m\u001b[1;33m.\u001b[0m\u001b[0mDataFrame\u001b[0m\u001b[1;33m(\u001b[0m\u001b[0mnp\u001b[0m\u001b[1;33m.\u001b[0m\u001b[0mzeros\u001b[0m\u001b[1;33m(\u001b[0m\u001b[1;33m(\u001b[0m\u001b[0mn_rows\u001b[0m\u001b[1;33m,\u001b[0m \u001b[0mn_cols\u001b[0m\u001b[1;33m)\u001b[0m\u001b[1;33m)\u001b[0m\u001b[1;33m,\u001b[0m \u001b[0mindex\u001b[0m \u001b[1;33m=\u001b[0m\u001b[0mrisk_tolerance_df\u001b[0m\u001b[1;33m.\u001b[0m\u001b[0mindex\u001b[0m\u001b[1;33m,\u001b[0m \u001b[0mcolumns\u001b[0m \u001b[1;33m=\u001b[0m\u001b[0mrisk_tolerance_df\u001b[0m\u001b[1;33m.\u001b[0m\u001b[0mcolumns\u001b[0m  \u001b[1;33m)\u001b[0m\u001b[1;33m\u001b[0m\u001b[1;33m\u001b[0m\u001b[0m\n\u001b[0m",
      "\u001b[1;32m~\\anaconda3\\envs\\dev\\lib\\site-packages\\pandas\\core\\frame.py\u001b[0m in \u001b[0;36m__init__\u001b[1;34m(self, data, index, columns, dtype, copy)\u001b[0m\n\u001b[0;32m    718\u001b[0m                 )\n\u001b[0;32m    719\u001b[0m             \u001b[1;32melse\u001b[0m\u001b[1;33m:\u001b[0m\u001b[1;33m\u001b[0m\u001b[1;33m\u001b[0m\u001b[0m\n\u001b[1;32m--> 720\u001b[1;33m                 mgr = ndarray_to_mgr(\n\u001b[0m\u001b[0;32m    721\u001b[0m                     \u001b[0mdata\u001b[0m\u001b[1;33m,\u001b[0m\u001b[1;33m\u001b[0m\u001b[1;33m\u001b[0m\u001b[0m\n\u001b[0;32m    722\u001b[0m                     \u001b[0mindex\u001b[0m\u001b[1;33m,\u001b[0m\u001b[1;33m\u001b[0m\u001b[1;33m\u001b[0m\u001b[0m\n",
      "\u001b[1;32m~\\anaconda3\\envs\\dev\\lib\\site-packages\\pandas\\core\\internals\\construction.py\u001b[0m in \u001b[0;36mndarray_to_mgr\u001b[1;34m(values, index, columns, dtype, copy, typ)\u001b[0m\n\u001b[0;32m    347\u001b[0m     )\n\u001b[0;32m    348\u001b[0m \u001b[1;33m\u001b[0m\u001b[0m\n\u001b[1;32m--> 349\u001b[1;33m     \u001b[0m_check_values_indices_shape_match\u001b[0m\u001b[1;33m(\u001b[0m\u001b[0mvalues\u001b[0m\u001b[1;33m,\u001b[0m \u001b[0mindex\u001b[0m\u001b[1;33m,\u001b[0m \u001b[0mcolumns\u001b[0m\u001b[1;33m)\u001b[0m\u001b[1;33m\u001b[0m\u001b[1;33m\u001b[0m\u001b[0m\n\u001b[0m\u001b[0;32m    350\u001b[0m \u001b[1;33m\u001b[0m\u001b[0m\n\u001b[0;32m    351\u001b[0m     \u001b[1;32mif\u001b[0m \u001b[0mtyp\u001b[0m \u001b[1;33m==\u001b[0m \u001b[1;34m\"array\"\u001b[0m\u001b[1;33m:\u001b[0m\u001b[1;33m\u001b[0m\u001b[1;33m\u001b[0m\u001b[0m\n",
      "\u001b[1;32m~\\anaconda3\\envs\\dev\\lib\\site-packages\\pandas\\core\\internals\\construction.py\u001b[0m in \u001b[0;36m_check_values_indices_shape_match\u001b[1;34m(values, index, columns)\u001b[0m\n\u001b[0;32m    418\u001b[0m         \u001b[0mpassed\u001b[0m \u001b[1;33m=\u001b[0m \u001b[0mvalues\u001b[0m\u001b[1;33m.\u001b[0m\u001b[0mshape\u001b[0m\u001b[1;33m\u001b[0m\u001b[1;33m\u001b[0m\u001b[0m\n\u001b[0;32m    419\u001b[0m         \u001b[0mimplied\u001b[0m \u001b[1;33m=\u001b[0m \u001b[1;33m(\u001b[0m\u001b[0mlen\u001b[0m\u001b[1;33m(\u001b[0m\u001b[0mindex\u001b[0m\u001b[1;33m)\u001b[0m\u001b[1;33m,\u001b[0m \u001b[0mlen\u001b[0m\u001b[1;33m(\u001b[0m\u001b[0mcolumns\u001b[0m\u001b[1;33m)\u001b[0m\u001b[1;33m)\u001b[0m\u001b[1;33m\u001b[0m\u001b[1;33m\u001b[0m\u001b[0m\n\u001b[1;32m--> 420\u001b[1;33m         \u001b[1;32mraise\u001b[0m \u001b[0mValueError\u001b[0m\u001b[1;33m(\u001b[0m\u001b[1;34mf\"Shape of passed values is {passed}, indices imply {implied}\"\u001b[0m\u001b[1;33m)\u001b[0m\u001b[1;33m\u001b[0m\u001b[1;33m\u001b[0m\u001b[0m\n\u001b[0m\u001b[0;32m    421\u001b[0m \u001b[1;33m\u001b[0m\u001b[0m\n\u001b[0;32m    422\u001b[0m \u001b[1;33m\u001b[0m\u001b[0m\n",
      "\u001b[1;31mValueError\u001b[0m: Shape of passed values is (1, 4), indices imply (5, 4)"
     ]
    }
   ],
   "source": [
    "df_zero = pd.DataFrame(np.zeros((n_rows, n_cols)), index =risk_tolerance_df.index, columns =risk_tolerance_df.columns  )"
   ]
  },
  {
   "cell_type": "code",
   "execution_count": 106,
   "id": "afbe383b-b825-4579-95d7-29e0647540b8",
   "metadata": {},
   "outputs": [
    {
     "data": {
      "text/html": [
       "<div>\n",
       "<style scoped>\n",
       "    .dataframe tbody tr th:only-of-type {\n",
       "        vertical-align: middle;\n",
       "    }\n",
       "\n",
       "    .dataframe tbody tr th {\n",
       "        vertical-align: top;\n",
       "    }\n",
       "\n",
       "    .dataframe thead th {\n",
       "        text-align: right;\n",
       "    }\n",
       "</style>\n",
       "<table border=\"1\" class=\"dataframe\">\n",
       "  <thead>\n",
       "    <tr style=\"text-align: right;\">\n",
       "      <th></th>\n",
       "      <th>&gt;30%</th>\n",
       "      <th>20%-30%</th>\n",
       "      <th>10%-20%</th>\n",
       "      <th>&lt;10%</th>\n",
       "    </tr>\n",
       "    <tr>\n",
       "      <th>Questions</th>\n",
       "      <th></th>\n",
       "      <th></th>\n",
       "      <th></th>\n",
       "      <th></th>\n",
       "    </tr>\n",
       "  </thead>\n",
       "  <tbody>\n",
       "    <tr>\n",
       "      <th>Amount to invest vs your net worth</th>\n",
       "      <td>0.0</td>\n",
       "      <td>0.0</td>\n",
       "      <td>0.0</td>\n",
       "      <td>0.0</td>\n",
       "    </tr>\n",
       "  </tbody>\n",
       "</table>\n",
       "</div>"
      ],
      "text/plain": [
       "                                    >30%  20%-30%  10%-20%  <10%\n",
       "Questions                                                       \n",
       "Amount to invest vs your net worth   0.0      0.0      0.0   0.0"
      ]
     },
     "execution_count": 106,
     "metadata": {},
     "output_type": "execute_result"
    }
   ],
   "source": [
    "df_zero"
   ]
  },
  {
   "cell_type": "code",
   "execution_count": 107,
   "id": "58df7820-b74e-44ce-8230-2c02ef85e3a0",
   "metadata": {},
   "outputs": [],
   "source": [
    "questions=list(df_zero.index)\n",
    "responses = list(df_zero.columns)"
   ]
  },
  {
   "cell_type": "code",
   "execution_count": 108,
   "id": "5d98b736-443e-4888-bac8-1b9fd3eadd26",
   "metadata": {},
   "outputs": [
    {
     "data": {
      "text/plain": [
       "['>30%', '20%-30%', '10%-20%', '<10%']"
      ]
     },
     "execution_count": 108,
     "metadata": {},
     "output_type": "execute_result"
    }
   ],
   "source": [
    "responses"
   ]
  },
  {
   "cell_type": "code",
   "execution_count": 109,
   "id": "e265d88f-7166-4803-86cb-a0027708cf47",
   "metadata": {},
   "outputs": [],
   "source": [
    "df_zero.loc['Compared to the average person, I would say I take more risk','Agree']=1"
   ]
  },
  {
   "cell_type": "code",
   "execution_count": 110,
   "id": "83569d6f-d9e5-4899-9867-875e460cec7b",
   "metadata": {},
   "outputs": [
    {
     "data": {
      "text/html": [
       "<div>\n",
       "<style scoped>\n",
       "    .dataframe tbody tr th:only-of-type {\n",
       "        vertical-align: middle;\n",
       "    }\n",
       "\n",
       "    .dataframe tbody tr th {\n",
       "        vertical-align: top;\n",
       "    }\n",
       "\n",
       "    .dataframe thead th {\n",
       "        text-align: right;\n",
       "    }\n",
       "</style>\n",
       "<table border=\"1\" class=\"dataframe\">\n",
       "  <thead>\n",
       "    <tr style=\"text-align: right;\">\n",
       "      <th></th>\n",
       "      <th>&gt;30%</th>\n",
       "      <th>20%-30%</th>\n",
       "      <th>10%-20%</th>\n",
       "      <th>&lt;10%</th>\n",
       "      <th>Agree</th>\n",
       "    </tr>\n",
       "    <tr>\n",
       "      <th>Questions</th>\n",
       "      <th></th>\n",
       "      <th></th>\n",
       "      <th></th>\n",
       "      <th></th>\n",
       "      <th></th>\n",
       "    </tr>\n",
       "  </thead>\n",
       "  <tbody>\n",
       "    <tr>\n",
       "      <th>Amount to invest vs your net worth</th>\n",
       "      <td>0.0</td>\n",
       "      <td>0.0</td>\n",
       "      <td>0.0</td>\n",
       "      <td>0.0</td>\n",
       "      <td>NaN</td>\n",
       "    </tr>\n",
       "    <tr>\n",
       "      <th>Compared to the average person, I would say I take more risk</th>\n",
       "      <td>NaN</td>\n",
       "      <td>NaN</td>\n",
       "      <td>NaN</td>\n",
       "      <td>NaN</td>\n",
       "      <td>1.0</td>\n",
       "    </tr>\n",
       "  </tbody>\n",
       "</table>\n",
       "</div>"
      ],
      "text/plain": [
       "                                                    >30%  20%-30%  10%-20%  \\\n",
       "Questions                                                                    \n",
       "Amount to invest vs your net worth                   0.0      0.0      0.0   \n",
       "Compared to the average person, I would say I t...   NaN      NaN      NaN   \n",
       "\n",
       "                                                    <10%  Agree  \n",
       "Questions                                                        \n",
       "Amount to invest vs your net worth                   0.0    NaN  \n",
       "Compared to the average person, I would say I t...   NaN    1.0  "
      ]
     },
     "execution_count": 110,
     "metadata": {},
     "output_type": "execute_result"
    }
   ],
   "source": [
    "df_zero"
   ]
  },
  {
   "cell_type": "code",
   "execution_count": 182,
   "id": "4363d46a-3cd1-41f9-bbe3-c2b3b5c4721c",
   "metadata": {},
   "outputs": [],
   "source": [
    "x=0.68"
   ]
  },
  {
   "cell_type": "code",
   "execution_count": null,
   "id": "dfdc659e-5277-41bd-bd8f-eaba260f1272",
   "metadata": {},
   "outputs": [],
   "source": []
  },
  {
   "cell_type": "code",
   "execution_count": 183,
   "id": "a0ef2c76-45b1-4e97-aa22-df38e4072470",
   "metadata": {},
   "outputs": [
    {
     "data": {
      "text/plain": [
       "'0.7'"
      ]
     },
     "execution_count": 183,
     "metadata": {},
     "output_type": "execute_result"
    }
   ],
   "source": [
    "str(math.ceil(x*10)/10)"
   ]
  },
  {
   "cell_type": "code",
   "execution_count": 184,
   "id": "986904a5-37b3-40a4-9886-3af8eda18325",
   "metadata": {},
   "outputs": [
    {
     "data": {
      "text/plain": [
       "'0.6'"
      ]
     },
     "execution_count": 184,
     "metadata": {},
     "output_type": "execute_result"
    }
   ],
   "source": [
    "str(math.floor(x*10)/10)"
   ]
  },
  {
   "cell_type": "code",
   "execution_count": 185,
   "id": "6345d30a-7a0a-4e22-b091-e615358b1075",
   "metadata": {},
   "outputs": [],
   "source": [
    "bucket = str(math.floor(x*10)/10)+'-'+str(math.ceil(x*10)/10)"
   ]
  },
  {
   "cell_type": "code",
   "execution_count": 186,
   "id": "ad49dadd-4a8e-40bc-812e-fa18de3833e6",
   "metadata": {},
   "outputs": [
    {
     "data": {
      "text/plain": [
       "'0.6-0.7'"
      ]
     },
     "execution_count": 186,
     "metadata": {},
     "output_type": "execute_result"
    }
   ],
   "source": [
    "bucket"
   ]
  },
  {
   "cell_type": "code",
   "execution_count": null,
   "id": "4b2f3e50-93f7-425a-9ad2-e2d19b84974e",
   "metadata": {},
   "outputs": [],
   "source": []
  }
 ],
 "metadata": {
  "kernelspec": {
   "display_name": "Python (dev)",
   "language": "python",
   "name": "dev"
  },
  "language_info": {
   "codemirror_mode": {
    "name": "ipython",
    "version": 3
   },
   "file_extension": ".py",
   "mimetype": "text/x-python",
   "name": "python",
   "nbconvert_exporter": "python",
   "pygments_lexer": "ipython3",
   "version": "3.9.15"
  }
 },
 "nbformat": 4,
 "nbformat_minor": 5
}
